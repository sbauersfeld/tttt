{
 "cells": [
  {
   "cell_type": "code",
   "execution_count": 0,
   "metadata": {
    "application/vnd.databricks.v1+cell": {
     "cellMetadata": {},
     "inputWidgets": {},
     "nuid": "b7885463-2680-4f1d-a662-f22cc2d5e07a",
     "showTitle": false,
     "title": ""
    }
   },
   "outputs": [],
   "source": [
    "select 1+1"
   ]
  }
 ],
 "metadata": {
  "application/vnd.databricks.v1+notebook": {
   "dashboards": [],
   "environmentMetadata": null,
   "language": "sql",
   "notebookMetadata": {
    "pythonIndentUnit": 2
   },
   "notebookName": "sqlnb",
   "widgets": {}
  }
 },
 "nbformat": 4,
 "nbformat_minor": 0
}
